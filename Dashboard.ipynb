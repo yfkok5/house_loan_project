{
 "cells": [
  {
   "cell_type": "code",
   "execution_count": 12,
   "id": "8b1ebeed-c01a-4a24-b30a-2f02bc243794",
   "metadata": {},
   "outputs": [],
   "source": [
    "# initial imports \n",
    "\n",
    "import os\n",
    "import pandas as pd\n",
    "import streamlit as st\n",
    "from pathlib import Path\n",
    "\n",
    "\n",
    "\n"
   ]
  },
  {
   "cell_type": "code",
   "execution_count": 13,
   "id": "09026770-db53-4f4f-b72b-bc84f22aeead",
   "metadata": {},
   "outputs": [
    {
     "ename": "TypeError",
     "evalue": "'str' object is not callable",
     "output_type": "error",
     "traceback": [
      "\u001b[0;31m---------------------------------------------------------------------------\u001b[0m",
      "\u001b[0;31mTypeError\u001b[0m                                 Traceback (most recent call last)",
      "\u001b[0;32m/var/folders/wx/jm_q4v511fv0ysrbyz6jc9tw0000gn/T/ipykernel_29155/712310643.py\u001b[0m in \u001b[0;36m<module>\u001b[0;34m\u001b[0m\n\u001b[1;32m     14\u001b[0m     \u001b[0;34m\"China\"\u001b[0m\u001b[0;34m,\u001b[0m\u001b[0;34m\u001b[0m\u001b[0;34m\u001b[0m\u001b[0m\n\u001b[1;32m     15\u001b[0m     \u001b[0;34m\"Switzerland\"\u001b[0m\u001b[0;34m,\u001b[0m\u001b[0;34m\u001b[0m\u001b[0;34m\u001b[0m\u001b[0m\n\u001b[0;32m---> 16\u001b[0;31m     \"Sweden\"))\n\u001b[0m\u001b[1;32m     17\u001b[0m \u001b[0mst\u001b[0m\u001b[0;34m.\u001b[0m\u001b[0mwrite\u001b[0m\u001b[0;34m(\u001b[0m\u001b[0;34m'You selected'\u001b[0m\u001b[0;34m,\u001b[0m \u001b[0moption\u001b[0m\u001b[0;34m)\u001b[0m\u001b[0;34m\u001b[0m\u001b[0;34m\u001b[0m\u001b[0m\n",
      "\u001b[0;31mTypeError\u001b[0m: 'str' object is not callable"
     ]
    }
   ],
   "source": [
    "# dropdown menu for regions/countries\n",
    "option = st.selectbox(\n",
    "    \"Which country are you in?\"\n",
    "    (\"United States\", \n",
    "    \"Europe\",\n",
    "    \"Japan\",\n",
    "    \"United Kingdown\",\n",
    "    \"Australia\",\n",
    "    \"Canada\",\n",
    "    \"Czech Republic\",\n",
    "    \"Bulgarian\",\n",
    "    \"Danmark\",\n",
    "    \"Hungary\",\n",
    "    \"China\",\n",
    "    \"Switzerland\", \n",
    "    \"Sweden\"))\n",
    "st.write('You selected', option)"
   ]
  },
  {
   "cell_type": "code",
   "execution_count": 9,
   "id": "18cec6b5-7de2-4674-a294-732ed9de7b82",
   "metadata": {},
   "outputs": [
    {
     "ename": "SyntaxError",
     "evalue": "unexpected EOF while parsing (3616787791.py, line 2)",
     "output_type": "error",
     "traceback": [
      "\u001b[0;36m  File \u001b[0;32m\"/var/folders/wx/jm_q4v511fv0ysrbyz6jc9tw0000gn/T/ipykernel_29155/3616787791.py\"\u001b[0;36m, line \u001b[0;32m2\u001b[0m\n\u001b[0;31m    st.title(\"Personal Property Investment Dashboard by suburds in AUS\"\u001b[0m\n\u001b[0m                                                                       ^\u001b[0m\n\u001b[0;31mSyntaxError\u001b[0m\u001b[0;31m:\u001b[0m unexpected EOF while parsing\n"
     ]
    }
   ],
   "source": [
    "# Streamlit application headings\n",
    "st.title(\"Personal Property Investment Dashboard by suburds in AUS\"\n"
   ]
  },
  {
   "cell_type": "code",
   "execution_count": 10,
   "id": "f8a73a13-1af1-494a-83b0-f22db339e804",
   "metadata": {},
   "outputs": [
    {
     "ename": "TypeError",
     "evalue": "'str' object is not callable",
     "output_type": "error",
     "traceback": [
      "\u001b[0;31m---------------------------------------------------------------------------\u001b[0m",
      "\u001b[0;31mTypeError\u001b[0m                                 Traceback (most recent call last)",
      "\u001b[0;32m/var/folders/wx/jm_q4v511fv0ysrbyz6jc9tw0000gn/T/ipykernel_29155/712310643.py\u001b[0m in \u001b[0;36m<module>\u001b[0;34m\u001b[0m\n\u001b[1;32m     14\u001b[0m     \u001b[0;34m\"China\"\u001b[0m\u001b[0;34m,\u001b[0m\u001b[0;34m\u001b[0m\u001b[0;34m\u001b[0m\u001b[0m\n\u001b[1;32m     15\u001b[0m     \u001b[0;34m\"Switzerland\"\u001b[0m\u001b[0;34m,\u001b[0m\u001b[0;34m\u001b[0m\u001b[0;34m\u001b[0m\u001b[0m\n\u001b[0;32m---> 16\u001b[0;31m     \"Sweden\"))\n\u001b[0m\u001b[1;32m     17\u001b[0m \u001b[0mst\u001b[0m\u001b[0;34m.\u001b[0m\u001b[0mwrite\u001b[0m\u001b[0;34m(\u001b[0m\u001b[0;34m'You selected'\u001b[0m\u001b[0;34m,\u001b[0m \u001b[0moption\u001b[0m\u001b[0;34m)\u001b[0m\u001b[0;34m\u001b[0m\u001b[0;34m\u001b[0m\u001b[0m\n",
      "\u001b[0;31mTypeError\u001b[0m: 'str' object is not callable"
     ]
    }
   ],
   "source": []
  },
  {
   "cell_type": "code",
   "execution_count": null,
   "id": "b5ad9e73-27f4-4a31-9433-6b50067809db",
   "metadata": {},
   "outputs": [],
   "source": []
  }
 ],
 "metadata": {
  "kernelspec": {
   "display_name": "Python 3 (ipykernel)",
   "language": "python",
   "name": "python3"
  },
  "language_info": {
   "codemirror_mode": {
    "name": "ipython",
    "version": 3
   },
   "file_extension": ".py",
   "mimetype": "text/x-python",
   "name": "python",
   "nbconvert_exporter": "python",
   "pygments_lexer": "ipython3",
   "version": "3.7.7"
  }
 },
 "nbformat": 4,
 "nbformat_minor": 5
}
