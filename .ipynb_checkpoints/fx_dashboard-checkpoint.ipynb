{
 "cells": [
  {
   "cell_type": "code",
   "execution_count": 21,
   "id": "b807059e",
   "metadata": {},
   "outputs": [
    {
     "data": {
      "text/plain": [
       "{'EUR': 0.9870693909781859,\n",
       " 'JPY': 138.34764583950252,\n",
       " 'BGN': 1.930510314875136,\n",
       " 'CZK': 24.191096634093377,\n",
       " 'DKK': 7.347251011746127,\n",
       " 'GBP': 0.8361267397098018,\n",
       " 'HUF': 396.85124864277964,\n",
       " 'PLN': 4.7142434113118155,\n",
       " 'RON': 4.875037015102163,\n",
       " 'SEK': 10.390385944131873,\n",
       " 'CHF': 0.97828447339848,\n",
       " 'ISK': 137.10393840687001,\n",
       " 'NOK': 10.12269272529859,\n",
       " 'HRK': 7.41585233441911,\n",
       " 'TRY': 17.4933372816109,\n",
       " 'AUD': 1.46471226927253,\n",
       " 'BRL': 5.380021715526602,\n",
       " 'CAD': 1.2980949560754123,\n",
       " 'CNY': 6.738327904451683,\n",
       " 'HKD': 7.8499654525713165,\n",
       " 'IDR': 14961.632612772679,\n",
       " 'INR': 79.98618102852632,\n",
       " 'KRW': 1316.0892310729446,\n",
       " 'MXN': 20.44171355246274,\n",
       " 'MYR': 4.45296614351989,\n",
       " 'NZD': 1.621952423255355,\n",
       " 'PHP': 56.31823117165137,\n",
       " 'SGD': 1.3969993090514266,\n",
       " 'THB': 36.64988648702004,\n",
       " 'ZAR': 17.158227223373803}"
      ]
     },
     "execution_count": 21,
     "metadata": {},
     "output_type": "execute_result"
    }
   ],
   "source": [
    "from forex_python.converter import CurrencyRates\n",
    "c = CurrencyRates()\n",
    "\n",
    "c.get_rates(\"USD\")"
   ]
  },
  {
   "cell_type": "code",
   "execution_count": 22,
   "id": "02afcec8",
   "metadata": {},
   "outputs": [
    {
     "name": "stdin",
     "output_type": "stream",
     "text": [
      "Current savings:  10000\n",
      "Currency:  SGD\n"
     ]
    }
   ],
   "source": [
    "savings = input(\"Current savings: \")\n",
    "currency = input(\"Currency: \")"
   ]
  },
  {
   "cell_type": "code",
   "execution_count": 23,
   "id": "030f28e7",
   "metadata": {},
   "outputs": [
    {
     "name": "stdout",
     "output_type": "stream",
     "text": [
      "Current Savings Available: SGD 10000\n"
     ]
    }
   ],
   "source": [
    "print(f\"Current Savings Available: {currency} {savings}\")"
   ]
  },
  {
   "cell_type": "code",
   "execution_count": 24,
   "id": "50f9f2da",
   "metadata": {},
   "outputs": [
    {
     "name": "stdout",
     "output_type": "stream",
     "text": [
      "Current Savings Available (in AUD): 10485\n"
     ]
    }
   ],
   "source": [
    "#converting savings from str to int\n",
    "savings_aud = int(savings) * c.get_rate(currency, 'AUD')\n",
    "print(f\"Current Savings Available (in AUD): {round(savings_aud)}\")"
   ]
  },
  {
   "cell_type": "code",
   "execution_count": null,
   "id": "bed87fff",
   "metadata": {},
   "outputs": [],
   "source": []
  }
 ],
 "metadata": {
  "kernelspec": {
   "display_name": "Python [conda env:pyvizenv] *",
   "language": "python",
   "name": "conda-env-pyvizenv-py"
  },
  "language_info": {
   "codemirror_mode": {
    "name": "ipython",
    "version": 3
   },
   "file_extension": ".py",
   "mimetype": "text/x-python",
   "name": "python",
   "nbconvert_exporter": "python",
   "pygments_lexer": "ipython3",
   "version": "3.7.11"
  }
 },
 "nbformat": 4,
 "nbformat_minor": 5
}
