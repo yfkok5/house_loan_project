{
 "cells": [
  {
   "cell_type": "code",
   "execution_count": 11,
   "id": "2e7c1294-ba0f-4d0a-86c4-7939cf340385",
   "metadata": {},
   "outputs": [],
   "source": [
    "# Initial imports\n",
    "import os\n",
    "import pandas as pd\n",
    "from path import Path\n",
    "from dotenv import load_dotenv\n",
    "from newsapi import NewsApiClient"
   ]
  },
  {
   "cell_type": "code",
   "execution_count": 12,
   "id": "71ab2974-8893-4b51-a324-7d1befe999d8",
   "metadata": {},
   "outputs": [],
   "source": [
    "# Load environment variables and retrieve the News API key\n",
    "load_dotenv()\n",
    "api_key = os.getenv(\"NEWS_API_KEY\")"
   ]
  },
  {
   "cell_type": "code",
   "execution_count": 13,
   "id": "77aec934-ca7f-4c9a-9a58-f334f8ed9cbb",
   "metadata": {},
   "outputs": [],
   "source": [
    " # Create the newsapi client\n",
    "newsapi = NewsApiClient(api_key=api_key)"
   ]
  },
  {
   "cell_type": "code",
   "execution_count": 30,
   "id": "15665876-2e40-44d0-bb73-2cc0507ab1ec",
   "metadata": {},
   "outputs": [
    {
     "data": {
      "text/plain": [
       "273"
      ]
     },
     "execution_count": 30,
     "metadata": {},
     "output_type": "execute_result"
    }
   ],
   "source": [
    " # Fetch news about Australia and property in 2022 in the English language\n",
    "house_news_en = newsapi.get_everything(\n",
    "    q=\"house price AND australia AND 2022\",\n",
    "    language=\"en\"\n",
    ")\n",
    "\n",
    "# Show the total number of news\n",
    "house_news_en[\"totalResults\"]"
   ]
  },
  {
   "cell_type": "code",
   "execution_count": 31,
   "id": "bd79a0c4-5f35-4aae-8542-f6ffe8f47e22",
   "metadata": {},
   "outputs": [],
   "source": [
    "# Function to create a dataframe for news\n",
    "def create_df(news, language):\n",
    "    articles = []\n",
    "    for article in news:\n",
    "        try:\n",
    "            title = article[\"title\"]\n",
    "            description = article[\"description\"]\n",
    "            text = article[\"content\"]\n",
    "            date = article[\"publishedAt\"][:10]\n",
    "\n",
    "            articles.append({\n",
    "                \"title\": title,\n",
    "                \"description\": description,\n",
    "                \"text\": text,\n",
    "                \"date\": date,\n",
    "                \"language\": language\n",
    "            })\n",
    "        except AttributeError:\n",
    "            pass\n",
    "\n",
    "    return pd.DataFrame(articles)"
   ]
  },
  {
   "cell_type": "code",
   "execution_count": 32,
   "id": "b5729bf6-d6e5-44e3-8662-79a191452bca",
   "metadata": {},
   "outputs": [],
   "source": [
    "house_df = create_df(house_news_en[\"articles\"], \"en\")"
   ]
  },
  {
   "cell_type": "code",
   "execution_count": 33,
   "id": "bc1e46ec-f20f-48ff-a13f-0b79b7dfe947",
   "metadata": {},
   "outputs": [
    {
     "data": {
      "text/html": [
       "<div>\n",
       "<style scoped>\n",
       "    .dataframe tbody tr th:only-of-type {\n",
       "        vertical-align: middle;\n",
       "    }\n",
       "\n",
       "    .dataframe tbody tr th {\n",
       "        vertical-align: top;\n",
       "    }\n",
       "\n",
       "    .dataframe thead th {\n",
       "        text-align: right;\n",
       "    }\n",
       "</style>\n",
       "<table border=\"1\" class=\"dataframe\">\n",
       "  <thead>\n",
       "    <tr style=\"text-align: right;\">\n",
       "      <th></th>\n",
       "      <th>title</th>\n",
       "      <th>description</th>\n",
       "      <th>text</th>\n",
       "      <th>date</th>\n",
       "      <th>language</th>\n",
       "    </tr>\n",
       "  </thead>\n",
       "  <tbody>\n",
       "    <tr>\n",
       "      <th>0</th>\n",
       "      <td>Australia's big banks hike fixed-rate home loa...</td>\n",
       "      <td>Two of Australia's biggest home lenders jacked...</td>\n",
       "      <td>SYDNEY, June 30 (Reuters) - Two of Australia's...</td>\n",
       "      <td>2022-06-30</td>\n",
       "      <td>en</td>\n",
       "    </tr>\n",
       "    <tr>\n",
       "      <th>1</th>\n",
       "      <td>Wealth inequality in Australia and the rapid r...</td>\n",
       "      <td>A report launched today by UNSW Sydney and Aus...</td>\n",
       "      <td>A report launched today by UNSW Sydney and Aus...</td>\n",
       "      <td>2022-07-22</td>\n",
       "      <td>en</td>\n",
       "    </tr>\n",
       "    <tr>\n",
       "      <th>2</th>\n",
       "      <td>Australia news live updates: house prices dip;...</td>\n",
       "      <td>New data shows two in five properties in Austr...</td>\n",
       "      <td>Good morning,\\r\\nTwo in five properties in Aus...</td>\n",
       "      <td>2022-07-22</td>\n",
       "      <td>en</td>\n",
       "    </tr>\n",
       "    <tr>\n",
       "      <th>3</th>\n",
       "      <td>The Nordstrom Anniversary Sale Is Back—and The...</td>\n",
       "      <td>Save on top brands like UGG, The North Face, a...</td>\n",
       "      <td>This article contains affiliate links to produ...</td>\n",
       "      <td>2022-07-15</td>\n",
       "      <td>en</td>\n",
       "    </tr>\n",
       "    <tr>\n",
       "      <th>4</th>\n",
       "      <td>Australia news live: Covid mask warnings, foot...</td>\n",
       "      <td>Anthony Albanese says he hopes there will be n...</td>\n",
       "      <td>Agriculture minister urges travellers to be wa...</td>\n",
       "      <td>2022-07-20</td>\n",
       "      <td>en</td>\n",
       "    </tr>\n",
       "  </tbody>\n",
       "</table>\n",
       "</div>"
      ],
      "text/plain": [
       "                                               title  \\\n",
       "0  Australia's big banks hike fixed-rate home loa...   \n",
       "1  Wealth inequality in Australia and the rapid r...   \n",
       "2  Australia news live updates: house prices dip;...   \n",
       "3  The Nordstrom Anniversary Sale Is Back—and The...   \n",
       "4  Australia news live: Covid mask warnings, foot...   \n",
       "\n",
       "                                         description  \\\n",
       "0  Two of Australia's biggest home lenders jacked...   \n",
       "1  A report launched today by UNSW Sydney and Aus...   \n",
       "2  New data shows two in five properties in Austr...   \n",
       "3  Save on top brands like UGG, The North Face, a...   \n",
       "4  Anthony Albanese says he hopes there will be n...   \n",
       "\n",
       "                                                text        date language  \n",
       "0  SYDNEY, June 30 (Reuters) - Two of Australia's...  2022-06-30       en  \n",
       "1  A report launched today by UNSW Sydney and Aus...  2022-07-22       en  \n",
       "2  Good morning,\\r\\nTwo in five properties in Aus...  2022-07-22       en  \n",
       "3  This article contains affiliate links to produ...  2022-07-15       en  \n",
       "4  Agriculture minister urges travellers to be wa...  2022-07-20       en  "
      ]
     },
     "execution_count": 33,
     "metadata": {},
     "output_type": "execute_result"
    }
   ],
   "source": [
    "house_df.head()"
   ]
  },
  {
   "cell_type": "code",
   "execution_count": 34,
   "id": "d2b7a40d-cb04-4074-84c8-163e4e51e169",
   "metadata": {},
   "outputs": [
    {
     "data": {
      "text/html": [
       "<div>\n",
       "<style scoped>\n",
       "    .dataframe tbody tr th:only-of-type {\n",
       "        vertical-align: middle;\n",
       "    }\n",
       "\n",
       "    .dataframe tbody tr th {\n",
       "        vertical-align: top;\n",
       "    }\n",
       "\n",
       "    .dataframe thead th {\n",
       "        text-align: right;\n",
       "    }\n",
       "</style>\n",
       "<table border=\"1\" class=\"dataframe\">\n",
       "  <thead>\n",
       "    <tr style=\"text-align: right;\">\n",
       "      <th></th>\n",
       "      <th>title</th>\n",
       "      <th>description</th>\n",
       "      <th>text</th>\n",
       "      <th>date</th>\n",
       "      <th>language</th>\n",
       "    </tr>\n",
       "  </thead>\n",
       "  <tbody>\n",
       "    <tr>\n",
       "      <th>95</th>\n",
       "      <td>Down 9% in a week, what’s going on with the Ch...</td>\n",
       "      <td>It's been a rough week – and year – for the Ch...</td>\n",
       "      <td>The Chalice Mining Ltd(ASX: CHN) share price h...</td>\n",
       "      <td>2022-06-24</td>\n",
       "      <td>en</td>\n",
       "    </tr>\n",
       "    <tr>\n",
       "      <th>96</th>\n",
       "      <td>Exclusive Q&amp;A: Greg Norman's vision for LIV Go...</td>\n",
       "      <td>Greg Norman sold both of his homes in the U.S....</td>\n",
       "      <td>WEST PALM BEACH About 18 months ago, Greg Norm...</td>\n",
       "      <td>2022-07-19</td>\n",
       "      <td>en</td>\n",
       "    </tr>\n",
       "    <tr>\n",
       "      <th>97</th>\n",
       "      <td>Why did the ANZ share price plunge 22% in FY22?</td>\n",
       "      <td>The ANZ share price suffered a major downturn ...</td>\n",
       "      <td>The Australia and New Zealand Banking Group Lt...</td>\n",
       "      <td>2022-07-09</td>\n",
       "      <td>en</td>\n",
       "    </tr>\n",
       "    <tr>\n",
       "      <th>98</th>\n",
       "      <td>Asian shares gain as investors shrug off downb...</td>\n",
       "      <td>Shares were higher in Asia on Friday, despite ...</td>\n",
       "      <td>Shares were higher in Asia on Friday, despite ...</td>\n",
       "      <td>2022-06-24</td>\n",
       "      <td>en</td>\n",
       "    </tr>\n",
       "    <tr>\n",
       "      <th>99</th>\n",
       "      <td>Can investors bank on the NAB share price in J...</td>\n",
       "      <td>After a tough June, we consider if things can ...</td>\n",
       "      <td>The National Australia Bank Ltd (ASX: NAB) sha...</td>\n",
       "      <td>2022-06-30</td>\n",
       "      <td>en</td>\n",
       "    </tr>\n",
       "  </tbody>\n",
       "</table>\n",
       "</div>"
      ],
      "text/plain": [
       "                                                title  \\\n",
       "95  Down 9% in a week, what’s going on with the Ch...   \n",
       "96  Exclusive Q&A: Greg Norman's vision for LIV Go...   \n",
       "97    Why did the ANZ share price plunge 22% in FY22?   \n",
       "98  Asian shares gain as investors shrug off downb...   \n",
       "99  Can investors bank on the NAB share price in J...   \n",
       "\n",
       "                                          description  \\\n",
       "95  It's been a rough week – and year – for the Ch...   \n",
       "96  Greg Norman sold both of his homes in the U.S....   \n",
       "97  The ANZ share price suffered a major downturn ...   \n",
       "98  Shares were higher in Asia on Friday, despite ...   \n",
       "99  After a tough June, we consider if things can ...   \n",
       "\n",
       "                                                 text        date language  \n",
       "95  The Chalice Mining Ltd(ASX: CHN) share price h...  2022-06-24       en  \n",
       "96  WEST PALM BEACH About 18 months ago, Greg Norm...  2022-07-19       en  \n",
       "97  The Australia and New Zealand Banking Group Lt...  2022-07-09       en  \n",
       "98  Shares were higher in Asia on Friday, despite ...  2022-06-24       en  \n",
       "99  The National Australia Bank Ltd (ASX: NAB) sha...  2022-06-30       en  "
      ]
     },
     "execution_count": 34,
     "metadata": {},
     "output_type": "execute_result"
    }
   ],
   "source": [
    "house_df.tail()"
   ]
  },
  {
   "cell_type": "code",
   "execution_count": 36,
   "id": "a76ec993-da87-4673-b2db-6a4c00519115",
   "metadata": {},
   "outputs": [],
   "source": [
    "# Save to CSV\n",
    "file_path = Path(\"../house_loan_project/house_news.csv\")\n",
    "house_df.to_csv(file_path, index=False, encoding='utf-8-sig')"
   ]
  },
  {
   "cell_type": "code",
   "execution_count": null,
   "id": "26bbff00-2211-4293-8eab-176e2dee1051",
   "metadata": {},
   "outputs": [],
   "source": []
  }
 ],
 "metadata": {
  "kernelspec": {
   "display_name": "Python 3 (ipykernel)",
   "language": "python",
   "name": "python3"
  },
  "language_info": {
   "codemirror_mode": {
    "name": "ipython",
    "version": 3
   },
   "file_extension": ".py",
   "mimetype": "text/x-python",
   "name": "python",
   "nbconvert_exporter": "python",
   "pygments_lexer": "ipython3",
   "version": "3.7.7"
  }
 },
 "nbformat": 4,
 "nbformat_minor": 5
}
