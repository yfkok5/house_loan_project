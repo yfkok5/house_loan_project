{
 "cells": [
  {
   "cell_type": "code",
   "execution_count": 1,
   "id": "8441b8c4-19a8-4bd2-be32-640ea5e5abd3",
   "metadata": {},
   "outputs": [
    {
     "name": "stdin",
     "output_type": "stream",
     "text": [
      "How much money will you borrow?  100000\n",
      "What is the interest rate on the loan?  2.5\n",
      "How many years will it take you to pay off the loan?  10\n"
     ]
    },
    {
     "name": "stdout",
     "output_type": "stream",
     "text": [
      "Your monthly payment will be 250596.6587112172\n",
      "Your monthly payment will be $250596.66\n"
     ]
    }
   ],
   "source": [
    "#Declare and initialize the variables\n",
    "monthlyPayment = 0\n",
    "loan = 0\n",
    "interestRate = 0\n",
    "numberOfPayments = 0\n",
    "loanDurationInYears = 0\n",
    "\n",
    "#Ask the user for the values needed to calculate the monthly payments\n",
    "strLoan = input(\"How much money will you borrow? \")\n",
    "strInterestRate = input(\"What is the interest rate on the loan? \")\n",
    "strLoanDurationInYears = input(\"How many years will it take you to pay off the loan? \" )\n",
    "\n",
    "#Convert the strings into floating numbers so we can use them in teh formula\n",
    "loanDurationInYears = float(strLoanDurationInYears)\n",
    "loan = float(strLoan)\n",
    "interestRate = float(strInterestRate)\n",
    "\n",
    "#Since payments are once per month, number of payments is number of years for the loan * 12\n",
    "numberOfPayments = loanDurationInYears*12\n",
    "\n",
    "#Calculate the monthly payment based on the formula\n",
    "monthlyPayment = loan * interestRate * (1+ interestRate) * numberOfPayments \\\n",
    "    / ((1 + interestRate) * numberOfPayments -1)\n",
    "\n",
    "#provide the result to the user\n",
    "print(\"Your monthly payment will be \" + str(monthlyPayment))\n",
    "\n",
    "#Extra credit\n",
    "print(\"Your monthly payment will be $%.2f\" % monthlyPayment)"
   ]
  },
  {
   "cell_type": "code",
   "execution_count": null,
   "id": "bcf5e8e8-a7fd-443b-a97f-2fe4ddf61b9e",
   "metadata": {},
   "outputs": [],
   "source": []
  }
 ],
 "metadata": {
  "kernelspec": {
   "display_name": "Python 3 (ipykernel)",
   "language": "python",
   "name": "python3"
  },
  "language_info": {
   "codemirror_mode": {
    "name": "ipython",
    "version": 3
   },
   "file_extension": ".py",
   "mimetype": "text/x-python",
   "name": "python",
   "nbconvert_exporter": "python",
   "pygments_lexer": "ipython3",
   "version": "3.7.11"
  }
 },
 "nbformat": 4,
 "nbformat_minor": 5
}
