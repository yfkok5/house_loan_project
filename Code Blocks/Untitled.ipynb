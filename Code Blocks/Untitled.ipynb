{
 "cells": [
  {
   "cell_type": "code",
   "execution_count": 4,
   "id": "6accbd05",
   "metadata": {},
   "outputs": [],
   "source": [
    "import numpy_financial as npf\n",
    "int_rate = 0.06\n",
    "pmts_year = 12\n",
    "year_option = 5\n",
    "savings_aud = 1000\n",
    "\n",
    "loan_amount = npf.pv(int_rate/pmts_year, int(year_option)*pmts_year, savings_aud * -1)"
   ]
  },
  {
   "cell_type": "code",
   "execution_count": 5,
   "id": "6f265516",
   "metadata": {},
   "outputs": [
    {
     "data": {
      "text/plain": [
       "51725.560751130986"
      ]
     },
     "execution_count": 5,
     "metadata": {},
     "output_type": "execute_result"
    }
   ],
   "source": [
    "loan_amount\n"
   ]
  },
  {
   "cell_type": "code",
   "execution_count": null,
   "id": "88871132",
   "metadata": {},
   "outputs": [],
   "source": []
  }
 ],
 "metadata": {
  "kernelspec": {
   "display_name": "Python 3 (ipykernel)",
   "language": "python",
   "name": "python3"
  },
  "language_info": {
   "codemirror_mode": {
    "name": "ipython",
    "version": 3
   },
   "file_extension": ".py",
   "mimetype": "text/x-python",
   "name": "python",
   "nbconvert_exporter": "python",
   "pygments_lexer": "ipython3",
   "version": "3.7.11"
  }
 },
 "nbformat": 4,
 "nbformat_minor": 5
}
