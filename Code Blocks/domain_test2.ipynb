{
 "cells": [
  {
   "cell_type": "code",
   "execution_count": 1,
   "id": "a4589c0a",
   "metadata": {},
   "outputs": [],
   "source": [
    "import json\n",
    "import requests # this library is awesome: http://docs.python-requests.org/en/master/\n",
    "import re, string, timeit\n",
    "import time\n"
   ]
  },
  {
   "cell_type": "code",
   "execution_count": 3,
   "id": "c5f871c3",
   "metadata": {},
   "outputs": [],
   "source": [
    "client_id = 'client_460a91f1e366f2ac2efb70ed3f0fd106'\n",
    "client_secret = 'secret_022a0ba3179800897b873d056a335cbe'\n",
    "scopes = ['api_properties_read']\n",
    "auth_url = 'https://auth.domain.com.au/v1/connect/token'\n",
    "url_endpoint = 'https://api.domain.com.au/v1/properties/'\n",
    "property_id = 'RF-8884-AK'"
   ]
  },
  {
   "cell_type": "code",
   "execution_count": 6,
   "id": "a47b48df",
   "metadata": {},
   "outputs": [],
   "source": [
    "# POST request for token\n",
    "response = requests.post('https://auth.domain.com.au/v1/connect/token', data = {'client_id':client_id,\"client_secret\":client_secret,\"grant_type\":\"client_credentials\",\"scope\":\"api_listings_read\",\"Content-Type\":\"text/json\"})\n",
    "token=response.json()\n",
    "access_token=token[\"access_token\"]"
   ]
  },
  {
   "cell_type": "code",
   "execution_count": 10,
   "id": "89622bc2",
   "metadata": {},
   "outputs": [],
   "source": [
    "# GET Request for ID\n",
    "url = \"https://api.domain.com.au/v1/listings/\"+property_id\n",
    "auth = {\"Authorization\":\"Bearer \"+access_token}\n",
    "request = requests.get(url,headers=auth)\n",
    "r=request.json()"
   ]
  },
  {
   "cell_type": "code",
   "execution_count": 12,
   "id": "679b2f5b",
   "metadata": {},
   "outputs": [
    {
     "data": {
      "text/plain": [
       "{'title': 'Not Found', 'detail': 'No Matching Route'}"
      ]
     },
     "execution_count": 12,
     "metadata": {},
     "output_type": "execute_result"
    }
   ],
   "source": []
  },
  {
   "cell_type": "code",
   "execution_count": 13,
   "id": "ac92812c",
   "metadata": {},
   "outputs": [
    {
     "ename": "KeyError",
     "evalue": "'addressParts'",
     "output_type": "error",
     "traceback": [
      "\u001b[1;31m---------------------------------------------------------------------------\u001b[0m",
      "\u001b[1;31mKeyError\u001b[0m                                  Traceback (most recent call last)",
      "\u001b[1;32m~\\AppData\\Local\\Temp/ipykernel_19176/1164249549.py\u001b[0m in \u001b[0;36m<module>\u001b[1;34m\u001b[0m\n\u001b[0;32m      1\u001b[0m \u001b[1;31m#get details\u001b[0m\u001b[1;33m\u001b[0m\u001b[1;33m\u001b[0m\u001b[1;33m\u001b[0m\u001b[0m\n\u001b[1;32m----> 2\u001b[1;33m \u001b[0mda\u001b[0m\u001b[1;33m=\u001b[0m\u001b[0mr\u001b[0m\u001b[1;33m[\u001b[0m\u001b[1;34m'addressParts'\u001b[0m\u001b[1;33m]\u001b[0m\u001b[1;33m\u001b[0m\u001b[1;33m\u001b[0m\u001b[0m\n\u001b[0m\u001b[0;32m      3\u001b[0m \u001b[0mpostcode\u001b[0m\u001b[1;33m=\u001b[0m\u001b[0mda\u001b[0m\u001b[1;33m[\u001b[0m\u001b[1;34m'postcode'\u001b[0m\u001b[1;33m]\u001b[0m\u001b[1;33m\u001b[0m\u001b[1;33m\u001b[0m\u001b[0m\n\u001b[0;32m      4\u001b[0m \u001b[0msuburb\u001b[0m\u001b[1;33m=\u001b[0m\u001b[0mda\u001b[0m\u001b[1;33m[\u001b[0m\u001b[1;34m'suburb'\u001b[0m\u001b[1;33m]\u001b[0m\u001b[1;33m\u001b[0m\u001b[1;33m\u001b[0m\u001b[0m\n\u001b[0;32m      5\u001b[0m \u001b[0mbathrooms\u001b[0m\u001b[1;33m=\u001b[0m\u001b[0mr\u001b[0m\u001b[1;33m[\u001b[0m\u001b[1;34m'bathrooms'\u001b[0m\u001b[1;33m]\u001b[0m\u001b[1;33m\u001b[0m\u001b[1;33m\u001b[0m\u001b[0m\n",
      "\u001b[1;31mKeyError\u001b[0m: 'addressParts'"
     ]
    }
   ],
   "source": [
    "#get details\n",
    "da=r['addressParts']\n",
    "postcode=da['postcode']\n",
    "suburb=da['suburb']\n",
    "bathrooms=r['bathrooms']\n",
    "bedrooms=r['bedrooms']\n",
    "carspaces=r['carspaces']\n",
    "property_type=r['propertyTypes']\n",
    "print(property_type,postcode, suburb, bedrooms, bathrooms,  carspaces)\n",
    "\n",
    "# the below puts all relevant property types into a single string. eg. a property listing can be a 'house' and a 'townhouse'\n",
    "n=0\n",
    "property_type_str=\"\"\n",
    "for p in r['propertyTypes']:\n",
    "  property_type_str=property_type_str+(r['propertyTypes'][int(n)])\n",
    "  n=n+1\n",
    "print(property_type_str)  "
   ]
  },
  {
   "cell_type": "code",
   "execution_count": null,
   "id": "fa416f1d",
   "metadata": {},
   "outputs": [],
   "source": []
  }
 ],
 "metadata": {
  "kernelspec": {
   "display_name": "Python 3 (ipykernel)",
   "language": "python",
   "name": "python3"
  },
  "language_info": {
   "codemirror_mode": {
    "name": "ipython",
    "version": 3
   },
   "file_extension": ".py",
   "mimetype": "text/x-python",
   "name": "python",
   "nbconvert_exporter": "python",
   "pygments_lexer": "ipython3",
   "version": "3.7.11"
  }
 },
 "nbformat": 4,
 "nbformat_minor": 5
}
