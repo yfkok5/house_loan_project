{
 "cells": [
  {
   "cell_type": "code",
   "execution_count": 4,
   "id": "9d5acac3",
   "metadata": {},
   "outputs": [],
   "source": [
    "from forex_python.converter import CurrencyRates\n",
    "c = CurrencyRates()\n",
    "\n",
    "dict = c.get_rates(\"USD\")\n"
   ]
  },
  {
   "cell_type": "code",
   "execution_count": 5,
   "id": "3828ac27",
   "metadata": {},
   "outputs": [
    {
     "data": {
      "text/plain": [
       "('EUR',\n",
       " 'JPY',\n",
       " 'BGN',\n",
       " 'CZK',\n",
       " 'DKK',\n",
       " 'GBP',\n",
       " 'HUF',\n",
       " 'PLN',\n",
       " 'RON',\n",
       " 'SEK',\n",
       " 'CHF',\n",
       " 'ISK',\n",
       " 'NOK',\n",
       " 'HRK',\n",
       " 'TRY',\n",
       " 'AUD',\n",
       " 'BRL',\n",
       " 'CAD',\n",
       " 'CNY',\n",
       " 'HKD',\n",
       " 'IDR',\n",
       " 'INR',\n",
       " 'KRW',\n",
       " 'MXN',\n",
       " 'MYR',\n",
       " 'NZD',\n",
       " 'PHP',\n",
       " 'SGD',\n",
       " 'THB',\n",
       " 'ZAR')"
      ]
     },
     "execution_count": 5,
     "metadata": {},
     "output_type": "execute_result"
    }
   ],
   "source": [
    "currency_list = tuple(dict.keys())\n",
    "currency_list"
   ]
  },
  {
   "cell_type": "code",
   "execution_count": 7,
   "id": "1d787984",
   "metadata": {},
   "outputs": [
    {
     "name": "stdin",
     "output_type": "stream",
     "text": [
      "Current savings:  1000000\n",
      "Currency:  CNY\n"
     ]
    }
   ],
   "source": [
    "savings = input(\"Current savings: \")\n",
    "currency = input(\"Currency: \")"
   ]
  },
  {
   "cell_type": "code",
   "execution_count": 8,
   "id": "ae94bc2b",
   "metadata": {},
   "outputs": [
    {
     "name": "stdout",
     "output_type": "stream",
     "text": [
      "Current Savings Available: CNY 1000000\n"
     ]
    }
   ],
   "source": [
    "print(f\"Current Savings Available: {currency} {savings}\")"
   ]
  },
  {
   "cell_type": "code",
   "execution_count": 9,
   "id": "045f1eab",
   "metadata": {},
   "outputs": [
    {
     "name": "stdout",
     "output_type": "stream",
     "text": [
      "Current Savings Available (in AUD): 214350\n"
     ]
    }
   ],
   "source": [
    "#converting savings from str to int\n",
    "savings_aud = int(savings) * c.get_rate(currency, 'AUD')\n",
    "print(f\"Current Savings Available (in AUD): {round(savings_aud)}\")"
   ]
  },
  {
   "cell_type": "code",
   "execution_count": null,
   "id": "a21fa729",
   "metadata": {},
   "outputs": [],
   "source": []
  },
  {
   "cell_type": "code",
   "execution_count": null,
   "id": "2b346511",
   "metadata": {},
   "outputs": [],
   "source": []
  }
 ],
 "metadata": {
  "kernelspec": {
<<<<<<< HEAD:fx_dashboard.ipynb
   "display_name": "Python 3 (ipykernel)",
=======
   "display_name": "Python 3.9.13 64-bit (windows store)",
>>>>>>> bb1771925f5c2460465dc8d2f6a2c91a2a0929d9:Code Blocks/fx_dashboard.ipynb
   "language": "python",
   "name": "python3"
  },
  "language_info": {
   "codemirror_mode": {
    "name": "ipython",
    "version": 3
   },
   "file_extension": ".py",
   "mimetype": "text/x-python",
   "name": "python",
   "nbconvert_exporter": "python",
   "pygments_lexer": "ipython3",
<<<<<<< HEAD:fx_dashboard.ipynb
   "version": "3.7.7"
=======
   "version": "3.9.13"
  },
  "vscode": {
   "interpreter": {
    "hash": "4c0bb65063aac71c2db85e1852722fa41695724603d9db3a77599e08df9a0461"
   }
>>>>>>> bb1771925f5c2460465dc8d2f6a2c91a2a0929d9:Code Blocks/fx_dashboard.ipynb
  }
 },
 "nbformat": 4,
 "nbformat_minor": 5
}
