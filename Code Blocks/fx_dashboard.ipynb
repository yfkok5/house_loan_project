{
 "cells": [
  {
   "cell_type": "code",
   "execution_count": 2,
   "id": "9d5acac3",
   "metadata": {},
   "outputs": [
    {
     "data": {
      "text/plain": [
       "dict_keys(['EUR', 'JPY', 'BGN', 'CZK', 'DKK', 'GBP', 'HUF', 'PLN', 'RON', 'SEK', 'CHF', 'ISK', 'NOK', 'HRK', 'TRY', 'AUD', 'BRL', 'CAD', 'CNY', 'HKD', 'IDR', 'INR', 'KRW', 'MXN', 'MYR', 'NZD', 'PHP', 'SGD', 'THB', 'ZAR'])"
      ]
     },
     "execution_count": 2,
     "metadata": {},
     "output_type": "execute_result"
    }
   ],
   "source": [
    "from forex_python.converter import CurrencyRates\n",
    "c = CurrencyRates()\n",
    "\n",
    "dict = c.get_rates(\"USD\")\n"
   ]
  },
  {
   "cell_type": "code",
   "execution_count": 7,
   "id": "3828ac27",
   "metadata": {},
   "outputs": [
    {
     "data": {
      "text/plain": [
       "('EUR',\n",
       " 'JPY',\n",
       " 'BGN',\n",
       " 'CZK',\n",
       " 'DKK',\n",
       " 'GBP',\n",
       " 'HUF',\n",
       " 'PLN',\n",
       " 'RON',\n",
       " 'SEK',\n",
       " 'CHF',\n",
       " 'ISK',\n",
       " 'NOK',\n",
       " 'HRK',\n",
       " 'TRY',\n",
       " 'AUD',\n",
       " 'BRL',\n",
       " 'CAD',\n",
       " 'CNY',\n",
       " 'HKD',\n",
       " 'IDR',\n",
       " 'INR',\n",
       " 'KRW',\n",
       " 'MXN',\n",
       " 'MYR',\n",
       " 'NZD',\n",
       " 'PHP',\n",
       " 'SGD',\n",
       " 'THB',\n",
       " 'ZAR')"
      ]
     },
     "execution_count": 7,
     "metadata": {},
     "output_type": "execute_result"
    }
   ],
   "source": [
    "currency_list = tuple(dict.keys())\n",
    "currency_list"
   ]
  },
  {
   "cell_type": "code",
   "execution_count": null,
   "id": "1d787984",
   "metadata": {},
   "outputs": [],
   "source": [
    "savings = input(\"Current savings: \")\n",
    "currency = input(\"Currency: \")"
   ]
  },
  {
   "cell_type": "code",
   "execution_count": 23,
   "id": "ae94bc2b",
   "metadata": {},
   "outputs": [
    {
     "name": "stdout",
     "output_type": "stream",
     "text": [
      "Current Savings Available: SGD 10000\n"
     ]
    }
   ],
   "source": [
    "print(f\"Current Savings Available: {currency} {savings}\")"
   ]
  },
  {
   "cell_type": "code",
   "execution_count": 24,
   "id": "045f1eab",
   "metadata": {},
   "outputs": [
    {
     "name": "stdout",
     "output_type": "stream",
     "text": [
      "Current Savings Available (in AUD): 10485\n"
     ]
    }
   ],
   "source": [
    "#converting savings from str to int\n",
    "savings_aud = int(savings) * c.get_rate(currency, 'AUD')\n",
    "print(f\"Current Savings Available (in AUD): {round(savings_aud)}\")"
   ]
  },
  {
   "cell_type": "code",
   "execution_count": null,
   "id": "a21fa729",
   "metadata": {},
   "outputs": [],
   "source": []
  },
  {
   "cell_type": "code",
   "execution_count": null,
   "id": "2b346511",
   "metadata": {},
   "outputs": [],
   "source": []
  }
 ],
 "metadata": {
  "kernelspec": {
   "display_name": "Python 3.9.13 64-bit (windows store)",
   "language": "python",
   "name": "python3"
  },
  "language_info": {
   "codemirror_mode": {
    "name": "ipython",
    "version": 3
   },
   "file_extension": ".py",
   "mimetype": "text/x-python",
   "name": "python",
   "nbconvert_exporter": "python",
   "pygments_lexer": "ipython3",
   "version": "3.9.13"
  },
  "vscode": {
   "interpreter": {
    "hash": "4c0bb65063aac71c2db85e1852722fa41695724603d9db3a77599e08df9a0461"
   }
  }
 },
 "nbformat": 4,
 "nbformat_minor": 5
}
