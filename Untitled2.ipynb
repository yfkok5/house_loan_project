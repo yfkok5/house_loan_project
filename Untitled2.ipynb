{
 "cells": [
  {
   "cell_type": "code",
   "execution_count": 1,
   "id": "7462921f-027d-466f-9848-65cae43b8294",
   "metadata": {},
   "outputs": [],
   "source": [
    "#!pip install html5lib"
   ]
  },
  {
   "cell_type": "code",
   "execution_count": 6,
   "id": "24ce32ff-099e-4567-9f35-3e8541c39b74",
   "metadata": {},
   "outputs": [],
   "source": [
    "import requests"
   ]
  },
  {
   "cell_type": "code",
   "execution_count": 7,
   "id": "1a58b771-17f9-455f-a832-da6b29c91a68",
   "metadata": {},
   "outputs": [],
   "source": [
    "import urllib.request"
   ]
  },
  {
   "cell_type": "code",
   "execution_count": 8,
   "id": "9e7866f9-7bac-4fef-b85d-1f1f8ca73226",
   "metadata": {},
   "outputs": [],
   "source": [
    "from bs4 import BeautifulSoup"
   ]
  },
  {
   "cell_type": "code",
   "execution_count": 9,
   "id": "084205d1-6e65-461f-b818-aca37a099c7c",
   "metadata": {},
   "outputs": [],
   "source": [
    "#URL = \"https://www.geeksforgeeks.org/data-structures/\"\n",
    "URL = \"https://www.realestate.com.au/buy/list-1/\""
   ]
  },
  {
   "cell_type": "code",
   "execution_count": 10,
   "id": "804dfe1a-b2c2-403a-b7bb-d75bcf20abb9",
   "metadata": {},
   "outputs": [],
   "source": [
    "r = requests.get(URL)"
   ]
  },
  {
   "cell_type": "code",
   "execution_count": 11,
   "id": "5452a43d-90c9-49c5-8f63-4691e00e2b95",
   "metadata": {},
   "outputs": [
    {
     "name": "stdout",
     "output_type": "stream",
     "text": [
      "b'<html>\\n    <head>\\n        <title>realestate.com.au - 403 Error - Permission Denied</title>\\n    </head>\\n    <body>\\n        <hr color=\"#e4002b\">\\n        <br/>\\n        &nbsp; &nbsp;<img src=\"//s1.rui.au.reastatic.net/rui-static/img/rea-logo-v3.png\" alt=\"realestate.com.au Australia lives here\" width=200px>\\n        <font face=\"Helvetica\">\\n            <h1>&nbsp; 403 - Permission Denied</h1>\\n            <p>\\n            &nbsp; &nbsp; You do not have permission to retrieve the URL or link you requested,\\n            <br/><br/>\\n            &nbsp; &nbsp; If you think this was a mistake please call <b>1300 134 174</b> or e-mail <b>customercare@realestate.com.au</b>\\n            <br/>\\n            &nbsp; &nbsp; and quote the reference number <b>&#32;&#35;18&#46;d544c717&#46;1658324176&#46;139b3ef6</b>\\n        </font>\\n        </p>\\n    </body>\\n</html>\\n'\n"
     ]
    }
   ],
   "source": [
    "print(r.content)"
   ]
  },
  {
   "cell_type": "code",
   "execution_count": null,
   "id": "cecee2a9-4faf-4142-84f1-b9f7da65a344",
   "metadata": {},
   "outputs": [],
   "source": []
  }
 ],
 "metadata": {
  "kernelspec": {
   "display_name": "Python 3 (ipykernel)",
   "language": "python",
   "name": "python3"
  },
  "language_info": {
   "codemirror_mode": {
    "name": "ipython",
    "version": 3
   },
   "file_extension": ".py",
   "mimetype": "text/x-python",
   "name": "python",
   "nbconvert_exporter": "python",
   "pygments_lexer": "ipython3",
   "version": "3.7.11"
  }
 },
 "nbformat": 4,
 "nbformat_minor": 5
}
